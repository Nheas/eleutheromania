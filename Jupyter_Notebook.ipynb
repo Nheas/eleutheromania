{
 "cells": [
  {
   "cell_type": "markdown",
   "metadata": {},
   "source": [
    "<center>\n",
    "    <img src=\"https://s3-api.us-geo.objectstorage.softlayer.net/cf-courses-data/CognitiveClass/Logos/organization_logo/organization_logo.png\" width=\"300\" alt=\"cognitiveclass.ai logo\"  />\n",
    "</center>\n"
   ]
  },
  {
   "cell_type": "markdown",
   "metadata": {},
   "source": [
    "#### Add your code below following the instructions given in the course\n"
   ]
  },
  {
   "cell_type": "markdown",
   "metadata": {},
   "source": [
    "# My Jupyter Notebook on Skills Network Labs"
   ]
  },
  {
   "cell_type": "markdown",
   "metadata": {},
   "source": [
    "**Hasbi Öner** "
   ]
  },
  {
   "cell_type": "markdown",
   "metadata": {},
   "source": [
    "I am a research assistant who is working on Nanotechnology and Sensors. I want to create a collaboration between data science and nanotechnology. "
   ]
  },
  {
   "cell_type": "markdown",
   "metadata": {},
   "source": [
    "*I am interested in data science because I like science in general and I want to work on Internet of Things related to Human Wearable Devices.*"
   ]
  },
  {
   "cell_type": "markdown",
   "metadata": {},
   "source": [
    "### This code is a basic arithmetic calculations of some numbers. "
   ]
  },
  {
   "cell_type": "code",
   "execution_count": 11,
   "metadata": {},
   "outputs": [
    {
     "name": "stdout",
     "output_type": "stream",
     "text": [
      "6\n",
      "y=  10303620\n",
      "The z is = 15159273129\n"
     ]
    }
   ],
   "source": [
    "x = 1 + 5 \n",
    "print(x) \n",
    "y= 10324932 - 21312 \n",
    "print(\"y= \",y) \n",
    "z= 123123*123123 \n",
    "print(\"The z is =\", z) "
   ]
  },
  {
   "cell_type": "markdown",
   "metadata": {},
   "source": [
    "*These are italicized words, not a bullet list*\n",
    "\n",
    "**These are bold words, not a bullet list**\n",
    "\n",
    "* **This is a bullet item with bold words**\n",
    "* *This is a bullet item with italicized words*\n",
    "\n",
    "`Here is some code!`\n",
    "`Here is some code!`\n",
    "\n",
    "***\n",
    "\n",
    "Here is some important text!\n",
    "\n",
    "***\n",
    "***\n",
    "\n",
    "Here is some important text!\n",
    "\n",
    "***"
   ]
  },
  {
   "cell_type": "code",
   "execution_count": null,
   "metadata": {},
   "outputs": [],
   "source": []
  }
 ],
 "metadata": {
  "kernelspec": {
   "display_name": "Python",
   "language": "python",
   "name": "conda-env-python-py"
  },
  "language_info": {
   "codemirror_mode": {
    "name": "ipython",
    "version": 3
   },
   "file_extension": ".py",
   "mimetype": "text/x-python",
   "name": "python",
   "nbconvert_exporter": "python",
   "pygments_lexer": "ipython3",
   "version": "3.7.12"
  }
 },
 "nbformat": 4,
 "nbformat_minor": 4
}
